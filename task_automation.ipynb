{
 "cells": [
  {
   "cell_type": "markdown",
   "metadata": {},
   "source": [
    "# Automação de Sistemas e Processos com Python\n",
    "\n",
    "### Desafio:\n",
    "\n",
    "Todos os dias, o nosso sistema atualiza as vendas do dia anterior.\n",
    "O seu trabalho diário, como analista, é enviar um e-mail para a diretoria, assim que começar a trabalhar, com o faturamento e a quantidade de produtos vendidos no dia anterior\n",
    "\n",
    "E-mail da diretoria: seugmail+diretoria@gmail.com<br>\n",
    "Local onde o sistema disponibiliza as vendas do dia anterior: https://drive.google.com/drive/folders/149xknr9JvrlEnhNWO49zPcw0PW5icxga?usp=sharing\n",
    "\n",
    "Para resolver isso, vamos usar o pyautogui, uma biblioteca de automação de comandos do mouse e do teclado"
   ]
  },
  {
   "cell_type": "code",
   "execution_count": 19,
   "metadata": {},
   "outputs": [
    {
     "name": "stdout",
     "output_type": "stream",
     "text": [
      "Requirement already satisfied: pyautogui in d:\\anaconda\\lib\\site-packages (0.9.53)\n",
      "Requirement already satisfied: mouseinfo in d:\\anaconda\\lib\\site-packages (from pyautogui) (0.1.3)\n",
      "Requirement already satisfied: pygetwindow>=0.0.5 in d:\\anaconda\\lib\\site-packages (from pyautogui) (0.0.9)\n",
      "Requirement already satisfied: pymsgbox in d:\\anaconda\\lib\\site-packages (from pyautogui) (1.0.9)\n",
      "Requirement already satisfied: pyscreeze>=0.1.21 in d:\\anaconda\\lib\\site-packages (from pyautogui) (0.1.28)\n",
      "Requirement already satisfied: PyTweening>=1.0.1 in d:\\anaconda\\lib\\site-packages (from pyautogui) (1.0.4)\n",
      "Requirement already satisfied: pyrect in d:\\anaconda\\lib\\site-packages (from pygetwindow>=0.0.5->pyautogui) (0.2.0)\n",
      "Requirement already satisfied: pyperclip in d:\\anaconda\\lib\\site-packages (from mouseinfo->pyautogui) (1.8.2)\n",
      "2917311\n",
      "15227\n"
     ]
    }
   ],
   "source": [
    "!pip install pyautogui\n",
    "import pyautogui as pa\n",
    "import time\n",
    "import pyperclip\n",
    "import pandas as pd\n",
    "\n",
    "link = \"https://drive.google.com/drive/folders/149xknr9JvrlEnhNWO49zPcw0PW5icxga\"\n",
    "\n",
    "#Primeiro passo: Abrir o Chrome\n",
    "pa.press(\"win\")\n",
    "pa.write(\"Google Chrome\")\n",
    "pa.press(\"enter\")\n",
    "\n",
    "#Segundo passo: Pegar o link, e copiar ele\n",
    "pyperclip.copy(link)\n",
    "time.sleep(5)\n",
    "pa.hotkey(\"ctrl\", \"v\")\n",
    "pa.press(\"enter\")\n",
    "time.sleep(5)\n",
    "\n",
    "#Terceiro passo: Baixar o relatório\n",
    "pa.click(x=526, y=346, clicks=2)\n",
    "time.sleep(2)\n",
    "\n",
    "pa.click (x=458, y=343)\n",
    "time.sleep(2)\n",
    "\n",
    "pa.click(x=458, y=343, button=\"right\")\n",
    "time.sleep(4)\n",
    "\n",
    "pa.click(x=579, y=917)\n",
    "time.sleep(5)\n",
    "\n",
    "#Quarto passo: Ler arquivo em excel, e calcular apontamentos\n",
    "tabela = pd.read_excel(r\"C:\\Users\\leand\\Downloads\\Vendas - Dez.xlsx\")\n",
    "faturamento = tabela[\"Valor Final\"].sum()\n",
    "print(faturamento)\n",
    "\n",
    "quantidade = tabela[\"Quantidade\"].sum()\n",
    "print(quantidade)\n",
    "\n",
    "time.sleep(5)\n",
    "\n",
    "#Quinto passo: Criar email e enviar\n",
    "pa.hotkey(\"ctrl\", \"t\")\n",
    "pyperclip.copy(\"https://mail.google.com/mail/u/1/#inbox\")\n",
    "pa.hotkey(\"ctrl\", \"v\")\n",
    "pa.press(\"enter\")\n",
    "time.sleep(2)\n",
    "pa.click(x=125, y=226)\n",
    "time.sleep(2)\n",
    "pa.write(\"mbueno1606@gmail.com\")\n",
    "pa.press(\"tab\")\n",
    "pa.press(\"tab\")\n",
    "assunto = \"Faturamento e quantidade do mês.\"\n",
    "pyperclip.copy(assunto)\n",
    "pa.hotkey(\"ctrl\", \"v\")\n",
    "pa.press(\"tab\")\n",
    "\n",
    "texto = f\"\"\"\n",
    "Prezados,\n",
    "\n",
    "Segue relatório de vendas.\n",
    "Faturamento: R${faturamento:,.2f}\n",
    "Quantidade de produtos vendidos: {quantidade:,}\n",
    "\n",
    "Qualquer dúvida estou à disposição.\n",
    "Att.,\n",
    "Miguel Perez Bueno\n",
    "\"\"\"\n",
    "pyperclip.copy(texto)\n",
    "pa.hotkey(\"ctrl\", \"v\")\n",
    "\n",
    "pa.hotkey(\"ctrl\", \"enter\")"
   ]
  },
  {
   "cell_type": "markdown",
   "metadata": {},
   "source": [
    "### Vamos agora ler o arquivo baixado para pegar os indicadores\n",
    "\n",
    "- Faturamento\n",
    "- Quantidade de Produtos"
   ]
  },
  {
   "cell_type": "code",
   "execution_count": null,
   "metadata": {},
   "outputs": [],
   "source": []
  },
  {
   "cell_type": "markdown",
   "metadata": {},
   "source": [
    "### Vamos agora enviar um e-mail pelo gmail"
   ]
  },
  {
   "cell_type": "code",
   "execution_count": null,
   "metadata": {},
   "outputs": [],
   "source": []
  },
  {
   "cell_type": "markdown",
   "metadata": {},
   "source": [
    "#### Use esse código para descobrir qual a posição de um item que queira clicar\n",
    "\n",
    "- Lembre-se: a posição na sua tela é diferente da posição na minha tela"
   ]
  },
  {
   "cell_type": "code",
   "execution_count": null,
   "metadata": {},
   "outputs": [],
   "source": []
  },
  {
   "cell_type": "code",
   "execution_count": null,
   "metadata": {},
   "outputs": [],
   "source": []
  }
 ],
 "metadata": {
  "kernelspec": {
   "display_name": "Python 3 (ipykernel)",
   "language": "python",
   "name": "python3"
  },
  "language_info": {
   "codemirror_mode": {
    "name": "ipython",
    "version": 3
   },
   "file_extension": ".py",
   "mimetype": "text/x-python",
   "name": "python",
   "nbconvert_exporter": "python",
   "pygments_lexer": "ipython3",
   "version": "3.9.13"
  }
 },
 "nbformat": 4,
 "nbformat_minor": 4
}
